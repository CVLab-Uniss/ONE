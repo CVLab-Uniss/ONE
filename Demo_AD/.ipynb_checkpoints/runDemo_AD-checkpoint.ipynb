{
 "cells": [
  {
   "cell_type": "code",
   "execution_count": 27,
   "id": "608de957-774f-47b9-abaf-57ec6dd422dd",
   "metadata": {},
   "outputs": [
    {
     "name": "stdout",
     "output_type": "stream",
     "text": [
      "Processing stream:  49.mp4\n",
      "Detected object: None\n",
      "Detected object: None\n",
      "Detected object: None\n",
      "Detected object: None\n",
      "Detected object: None\n",
      "Detected object:\n",
      "car\n",
      "Detected object:\n",
      "car\n",
      "End of frame.\n",
      "\n",
      "Processing stream:  50.mp4\n",
      "Detected object: None\n",
      "Detected object: None\n",
      "Detected object: None\n",
      "Detected object: None\n",
      "Detected object: None\n",
      "Detected object: None\n",
      "Detected object: None\n",
      "End of frame.\n",
      "\n",
      "Processing stream:  34.mp4\n",
      "Detected object: None\n",
      "Detected object: None\n",
      "Detected object: None\n",
      "Detected object: None\n",
      "Detected object: None\n",
      "Detected object: None\n",
      "Detected object: None\n",
      "End of frame.\n",
      "\n",
      "Processing stream:  33.mp4\n",
      "Detected object: None\n",
      "Detected object:\n",
      "car\n",
      "Detected object:\n",
      "car\n",
      "Detected object:\n",
      "car\n",
      "car\n",
      "Detected object:\n",
      "car\n",
      "car\n",
      "car\n",
      "Detected object:\n",
      "car\n",
      "car\n",
      "Error reading the frame 296.\n",
      "Detected object:\n",
      "car\n",
      "car\n",
      "End of frame.\n",
      "\n"
     ]
    }
   ],
   "source": [
    "%run AnomalyDect.py"
   ]
  },
  {
   "cell_type": "code",
   "execution_count": null,
   "id": "9f801e59-3993-482f-8f11-f7226e383eda",
   "metadata": {},
   "outputs": [],
   "source": []
  }
 ],
 "metadata": {
  "kernelspec": {
   "display_name": "Python [conda env:yolov8]",
   "language": "python",
   "name": "conda-env-yolov8-py"
  },
  "language_info": {
   "codemirror_mode": {
    "name": "ipython",
    "version": 3
   },
   "file_extension": ".py",
   "mimetype": "text/x-python",
   "name": "python",
   "nbconvert_exporter": "python",
   "pygments_lexer": "ipython3",
   "version": "3.11.9"
  }
 },
 "nbformat": 4,
 "nbformat_minor": 5
}
