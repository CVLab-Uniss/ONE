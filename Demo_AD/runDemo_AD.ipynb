{
 "cells": [
  {
   "cell_type": "code",
   "execution_count": 1,
   "id": "608de957-774f-47b9-abaf-57ec6dd422dd",
   "metadata": {},
   "outputs": [
    {
     "name": "stdout",
     "output_type": "stream",
     "text": [
      "WARNING ⚠️ Ultralytics settings reset to default values. This may be due to a possible problem with your settings or a recent ultralytics package update. \n",
      "View Ultralytics Settings with 'yolo settings' or at '/home/ritadelussu/.config/Ultralytics/settings.json'\n",
      "Update Settings with 'yolo settings key=value', i.e. 'yolo settings runs_dir=path/to/dir'. For help see https://docs.ultralytics.com/quickstart/#ultralytics-settings.\n",
      "Processing stream:  49.mp4\n",
      "Detected object: None\n",
      "Detected object: None\n",
      "Detected object: None\n",
      "Detected object: None\n",
      "Detected object: None\n",
      "Detected object:\n",
      "car\n",
      "Detected object:\n",
      "car\n",
      "End of frame.\n",
      "\n",
      "Processing stream:  50.mp4\n",
      "Detected object: None\n",
      "Detected object: None\n",
      "Detected object: None\n",
      "Detected object: None\n",
      "Detected object: None\n"
     ]
    },
    {
     "ename": "KeyboardInterrupt",
     "evalue": "",
     "output_type": "error",
     "traceback": [
      "\u001b[31m---------------------------------------------------------------------------\u001b[39m",
      "\u001b[31mKeyboardInterrupt\u001b[39m                         Traceback (most recent call last)",
      "\u001b[36mFile \u001b[39m\u001b[32m~/CondaWS/ONE/Demo_AD/AnomalyDect.py:100\u001b[39m\n\u001b[32m     98\u001b[39m \u001b[38;5;28;01mif\u001b[39;00m (counter%timeSlot == \u001b[32m0\u001b[39m):                \n\u001b[32m     99\u001b[39m     \u001b[38;5;28;01mfor\u001b[39;00m i \u001b[38;5;129;01min\u001b[39;00m \u001b[38;5;28mrange\u001b[39m(frameSlot):                       \n\u001b[32m--> \u001b[39m\u001b[32m100\u001b[39m         ret, frame = cap.read()   \n\u001b[32m    102\u001b[39m         \u001b[38;5;28;01mif\u001b[39;00m \u001b[38;5;129;01mnot\u001b[39;00m ret:\n\u001b[32m    103\u001b[39m             \u001b[38;5;28mprint\u001b[39m(\u001b[33mf\u001b[39m\u001b[33m\"\u001b[39m\u001b[33mError reading the frame \u001b[39m\u001b[38;5;132;01m{\u001b[39;00mi\u001b[38;5;132;01m}\u001b[39;00m\u001b[33m.\u001b[39m\u001b[33m\"\u001b[39m)\n",
      "\u001b[31mKeyboardInterrupt\u001b[39m: "
     ]
    }
   ],
   "source": [
    "%run AnomalyDect.py"
   ]
  },
  {
   "cell_type": "code",
   "execution_count": null,
   "id": "9f801e59-3993-482f-8f11-f7226e383eda",
   "metadata": {},
   "outputs": [],
   "source": []
  }
 ],
 "metadata": {
  "kernelspec": {
   "display_name": "Python [conda env:DemoAD]",
   "language": "python",
   "name": "conda-env-DemoAD-py"
  },
  "language_info": {
   "codemirror_mode": {
    "name": "ipython",
    "version": 3
   },
   "file_extension": ".py",
   "mimetype": "text/x-python",
   "name": "python",
   "nbconvert_exporter": "python",
   "pygments_lexer": "ipython3",
   "version": "3.13.5"
  }
 },
 "nbformat": 4,
 "nbformat_minor": 5
}
