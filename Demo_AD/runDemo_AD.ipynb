{
 "cells": [
  {
   "cell_type": "code",
   "execution_count": 3,
   "id": "608de957-774f-47b9-abaf-57ec6dd422dd",
   "metadata": {},
   "outputs": [
    {
     "name": "stdout",
     "output_type": "stream",
     "text": [
      "\n",
      "WARNING ⚠️ imgsz=[410, 800] must be multiple of max stride 32, updating to [416, 800]\n",
      "0: 416x800 1 car, 219.8ms\n",
      "Speed: 15.3ms preprocess, 219.8ms inference, 3.7ms postprocess per image at shape (1, 3, 416, 800)\n",
      "Detected object:\n",
      "car\n",
      "\n",
      "WARNING ⚠️ imgsz=[410, 800] must be multiple of max stride 32, updating to [416, 800]\n",
      "0: 416x800 (no detections), 173.5ms\n",
      "Speed: 0.7ms preprocess, 173.5ms inference, 0.3ms postprocess per image at shape (1, 3, 416, 800)\n",
      "No detected object!\n",
      "\n",
      "WARNING ⚠️ imgsz=[410, 800] must be multiple of max stride 32, updating to [416, 800]\n",
      "0: 416x800 1 car, 175.4ms\n",
      "Speed: 1.4ms preprocess, 175.4ms inference, 0.4ms postprocess per image at shape (1, 3, 416, 800)\n",
      "Detected object:\n",
      "car\n",
      "\n",
      "WARNING ⚠️ imgsz=[410, 800] must be multiple of max stride 32, updating to [416, 800]\n",
      "0: 416x800 1 car, 191.5ms\n",
      "Speed: 0.7ms preprocess, 191.5ms inference, 0.7ms postprocess per image at shape (1, 3, 416, 800)\n",
      "Detected object:\n",
      "car\n",
      "\n",
      "WARNING ⚠️ imgsz=[410, 800] must be multiple of max stride 32, updating to [416, 800]\n",
      "0: 416x800 3 cars, 191.7ms\n",
      "Speed: 0.6ms preprocess, 191.7ms inference, 0.7ms postprocess per image at shape (1, 3, 416, 800)\n",
      "Detected object:\n",
      "car\n",
      "car\n",
      "car\n",
      "\n",
      "WARNING ⚠️ imgsz=[410, 800] must be multiple of max stride 32, updating to [416, 800]\n",
      "0: 416x800 3 cars, 192.1ms\n",
      "Speed: 0.6ms preprocess, 192.1ms inference, 0.7ms postprocess per image at shape (1, 3, 416, 800)\n",
      "Detected object:\n",
      "car\n",
      "car\n",
      "car\n",
      "\n",
      "WARNING ⚠️ imgsz=[410, 800] must be multiple of max stride 32, updating to [416, 800]\n",
      "0: 416x800 2 cars, 194.0ms\n",
      "Speed: 0.7ms preprocess, 194.0ms inference, 0.7ms postprocess per image at shape (1, 3, 416, 800)\n",
      "Detected object:\n",
      "car\n",
      "car\n",
      "Fine del file.\n"
     ]
    }
   ],
   "source": [
    "%run AnomalyDect.py"
   ]
  },
  {
   "cell_type": "code",
   "execution_count": null,
   "id": "975db4c9-4ee2-4019-898d-3ffa08fabc79",
   "metadata": {},
   "outputs": [],
   "source": []
  }
 ],
 "metadata": {
  "kernelspec": {
   "display_name": "Python [conda env:yolov8]",
   "language": "python",
   "name": "conda-env-yolov8-py"
  },
  "language_info": {
   "codemirror_mode": {
    "name": "ipython",
    "version": 3
   },
   "file_extension": ".py",
   "mimetype": "text/x-python",
   "name": "python",
   "nbconvert_exporter": "python",
   "pygments_lexer": "ipython3",
   "version": "3.11.9"
  }
 },
 "nbformat": 4,
 "nbformat_minor": 5
}
