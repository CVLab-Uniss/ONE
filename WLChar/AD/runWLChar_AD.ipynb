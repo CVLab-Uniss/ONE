{
 "cells": [
  {
   "cell_type": "code",
   "execution_count": 17,
   "id": "608de957-774f-47b9-abaf-57ec6dd422dd",
   "metadata": {},
   "outputs": [
    {
     "name": "stdout",
     "output_type": "stream",
     "text": [
      "Video selezionato: 50.mp4\n",
      "Dispositivo in uso: cpu\n",
      "Detected object: \n",
      "None\n"
     ]
    }
   ],
   "source": [
    "%run WLChar_AD.py"
   ]
  },
  {
   "cell_type": "code",
   "execution_count": null,
   "id": "babf7d82-bcd3-4bd9-95ab-27831afd97a3",
   "metadata": {},
   "outputs": [],
   "source": []
  }
 ],
 "metadata": {
  "kernelspec": {
   "display_name": "Python [conda env:yolov8]",
   "language": "python",
   "name": "conda-env-yolov8-py"
  },
  "language_info": {
   "codemirror_mode": {
    "name": "ipython",
    "version": 3
   },
   "file_extension": ".py",
   "mimetype": "text/x-python",
   "name": "python",
   "nbconvert_exporter": "python",
   "pygments_lexer": "ipython3",
   "version": "3.11.9"
  }
 },
 "nbformat": 4,
 "nbformat_minor": 5
}
