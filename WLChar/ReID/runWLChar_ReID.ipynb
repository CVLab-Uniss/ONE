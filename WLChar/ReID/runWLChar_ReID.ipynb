{
 "cells": [
  {
   "cell_type": "code",
   "execution_count": 1,
   "id": "8034beb8-0056-47d4-b602-1cceeaf98e2e",
   "metadata": {},
   "outputs": [
    {
     "name": "stderr",
     "output_type": "stream",
     "text": [
      "Using cache found in /home/visionlab/.cache/torch/hub/facebookresearch_dinov2_main\n",
      "/home/visionlab/.cache/torch/hub/facebookresearch_dinov2_main/dinov2/layers/swiglu_ffn.py:51: UserWarning: xFormers is not available (SwiGLU)\n",
      "  warnings.warn(\"xFormers is not available (SwiGLU)\")\n",
      "/home/visionlab/.cache/torch/hub/facebookresearch_dinov2_main/dinov2/layers/attention.py:33: UserWarning: xFormers is not available (Attention)\n",
      "  warnings.warn(\"xFormers is not available (Attention)\")\n",
      "/home/visionlab/.cache/torch/hub/facebookresearch_dinov2_main/dinov2/layers/block.py:40: UserWarning: xFormers is not available (Block)\n",
      "  warnings.warn(\"xFormers is not available (Block)\")\n"
     ]
    },
    {
     "name": "stdout",
     "output_type": "stream",
     "text": [
      "DEVICE used:  cuda\n",
      "Salvato: cropped_objects/object_1.jpg\n",
      "Salvato: cropped_objects/object_2.jpg\n",
      "Salvato: cropped_objects/object_3.jpg\n",
      "Salvato: cropped_objects/object_4.jpg\n",
      "Salvato: cropped_objects/object_5.jpg\n",
      "Salvato: cropped_objects/object_6.jpg\n",
      "Salvato: cropped_objects/object_7.jpg\n",
      "Salvato: cropped_objects/object_8.jpg\n",
      "Query image (vehicle id:  00256 )\n",
      "Query vehicle NOT found in camera num.  2\n"
     ]
    }
   ],
   "source": [
    "%run WLChar_ReID.py"
   ]
  },
  {
   "cell_type": "code",
   "execution_count": null,
   "id": "a7653532-db9e-4e50-93f4-e48054a3530a",
   "metadata": {},
   "outputs": [],
   "source": []
  }
 ],
 "metadata": {
  "kernelspec": {
   "display_name": "Python [conda env:ONE_finetuning]",
   "language": "python",
   "name": "conda-env-ONE_finetuning-py"
  },
  "language_info": {
   "codemirror_mode": {
    "name": "ipython",
    "version": 3
   },
   "file_extension": ".py",
   "mimetype": "text/x-python",
   "name": "python",
   "nbconvert_exporter": "python",
   "pygments_lexer": "ipython3",
   "version": "3.11.9"
  }
 },
 "nbformat": 4,
 "nbformat_minor": 5
}
